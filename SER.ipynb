{
  "cells": [
    {
      "cell_type": "code",
      "execution_count": null,
      "id": "42a74787",
      "metadata": {
        "_cell_guid": "b1076dfc-b9ad-4769-8c92-a6c4dae69d19",
        "_uuid": "8f2839f25d086af736a60e9eeb907d3b93b6e0e5",
        "execution": {
          "iopub.execute_input": "2023-07-01T21:58:11.240223Z",
          "iopub.status.busy": "2023-07-01T21:58:11.239332Z",
          "iopub.status.idle": "2023-07-01T21:58:18.629235Z",
          "shell.execute_reply": "2023-07-01T21:58:18.626615Z"
        },
        "papermill": {
          "duration": 7.421986,
          "end_time": "2023-07-01T21:58:18.631707",
          "exception": false,
          "start_time": "2023-07-01T21:58:11.209721",
          "status": "completed"
        },
        "tags": [],
        "id": "42a74787",
        "outputId": "20649350-2663-445a-94bc-8966b5c905ac"
      },
      "outputs": [
        {
          "name": "stdout",
          "output_type": "stream",
          "text": [
            "Done\n"
          ]
        }
      ],
      "source": [
        "import pandas as pd\n",
        "import numpy as np\n",
        "import os\n",
        "import sys\n",
        "import librosa\n",
        "import librosa.display\n",
        "import seaborn as sns\n",
        "import matplotlib.pyplot as plt\n",
        "from sklearn.preprocessing import StandardScaler, OneHotEncoder\n",
        "from sklearn.metrics import confusion_matrix, classification_report\n",
        "from sklearn.model_selection import train_test_split\n",
        "import IPython.display as ipd\n",
        "from IPython.display import Audio\n",
        "import keras\n",
        "from keras.preprocessing import sequence\n",
        "from keras.models import Sequential\n",
        "from keras.layers import Dense, Embedding\n",
        "from keras.layers import LSTM,BatchNormalization , GRU\n",
        "from keras.preprocessing.text import Tokenizer\n",
        "from keras.preprocessing.sequence import pad_sequences\n",
        "from tensorflow.keras.utils import to_categorical\n",
        "from keras.layers import Input, Flatten, Dropout, Activation\n",
        "from keras.layers import Conv1D, MaxPooling1D, AveragePooling1D\n",
        "from keras.models import Model\n",
        "from keras.callbacks import ModelCheckpoint\n",
        "from tensorflow.keras.optimizers import SGD\n",
        "\n",
        "import warnings\n",
        "if not sys.warnoptions:\n",
        "    warnings.simplefilter(\"ignore\")\n",
        "warnings.filterwarnings(\"ignore\", category=DeprecationWarning)\n",
        "import tensorflow as tf\n",
        "print (\"Done\")"
      ]
    },
    {
      "cell_type": "code",
      "execution_count": null,
      "id": "a88f7a61",
      "metadata": {
        "execution": {
          "iopub.execute_input": "2023-07-01T21:58:18.681082Z",
          "iopub.status.busy": "2023-07-01T21:58:18.679990Z",
          "iopub.status.idle": "2023-07-01T21:58:25.972742Z",
          "shell.execute_reply": "2023-07-01T21:58:25.971352Z"
        },
        "papermill": {
          "duration": 7.320549,
          "end_time": "2023-07-01T21:58:25.976098",
          "exception": false,
          "start_time": "2023-07-01T21:58:18.655549",
          "status": "completed"
        },
        "tags": [],
        "id": "a88f7a61"
      },
      "outputs": [],
      "source": [
        "!apt-get update\n",
        "!apt-get install -y libsndfile1"
      ]
    },
    {
      "cell_type": "code",
      "execution_count": null,
      "id": "2fe16d2f",
      "metadata": {
        "execution": {
          "iopub.execute_input": "2023-07-01T21:58:26.222727Z",
          "iopub.status.busy": "2023-07-01T21:58:26.222271Z",
          "iopub.status.idle": "2023-07-01T21:58:26.235139Z",
          "shell.execute_reply": "2023-07-01T21:58:26.234219Z"
        },
        "papermill": {
          "duration": 0.057574,
          "end_time": "2023-07-01T21:58:26.239213",
          "exception": false,
          "start_time": "2023-07-01T21:58:26.181639",
          "status": "completed"
        },
        "tags": [],
        "id": "2fe16d2f"
      },
      "outputs": [],
      "source": [
        "ravdess = \"/kaggle/input/ravdess-emotional-speech-audio/audio_speech_actors_01-24/\"\n",
        "ravdess_directory_list = os.listdir(ravdess)\n",
        "print(ravdess_directory_list)"
      ]
    },
    {
      "cell_type": "code",
      "execution_count": null,
      "id": "f5dfa26f",
      "metadata": {
        "execution": {
          "iopub.execute_input": "2023-07-01T21:58:26.318495Z",
          "iopub.status.busy": "2023-07-01T21:58:26.318126Z",
          "iopub.status.idle": "2023-07-01T21:58:26.322904Z",
          "shell.execute_reply": "2023-07-01T21:58:26.322042Z"
        },
        "papermill": {
          "duration": 0.049027,
          "end_time": "2023-07-01T21:58:26.327212",
          "exception": false,
          "start_time": "2023-07-01T21:58:26.278185",
          "status": "completed"
        },
        "tags": [],
        "id": "f5dfa26f"
      },
      "outputs": [],
      "source": [
        "Crema = \"/kaggle/input/cremad/AudioWAV/\"\n",
        "Tess = \"/kaggle/input/toronto-emotional-speech-set-tess/tess toronto emotional speech set data/TESS Toronto emotional speech set data/\"\n",
        "Savee = \"/kaggle/input/surrey-audiovisual-expressed-emotion-savee/ALL/\""
      ]
    },
    {
      "cell_type": "markdown",
      "id": "65ae4870",
      "metadata": {
        "papermill": {
          "duration": 0.038859,
          "end_time": "2023-07-01T21:58:26.404767",
          "exception": false,
          "start_time": "2023-07-01T21:58:26.365908",
          "status": "completed"
        },
        "tags": [],
        "id": "65ae4870"
      },
      "source": [
        "# preprocessing"
      ]
    },
    {
      "cell_type": "code",
      "execution_count": null,
      "id": "b32d9d18",
      "metadata": {
        "execution": {
          "iopub.execute_input": "2023-07-01T21:58:26.566519Z",
          "iopub.status.busy": "2023-07-01T21:58:26.566082Z",
          "iopub.status.idle": "2023-07-01T21:58:26.940645Z",
          "shell.execute_reply": "2023-07-01T21:58:26.939588Z"
        },
        "papermill": {
          "duration": 0.418807,
          "end_time": "2023-07-01T21:58:26.943184",
          "exception": false,
          "start_time": "2023-07-01T21:58:26.524377",
          "status": "completed"
        },
        "tags": [],
        "id": "b32d9d18"
      },
      "outputs": [],
      "source": [
        "file_emotion = []\n",
        "file_path = []\n",
        "for i in ravdess_directory_list:\n",
        "    actor = os.listdir(ravdess + i)\n",
        "    for f in actor:\n",
        "        part = f.split('.')[0].split('-')\n",
        "        file_emotion.append(int(part[2]))\n",
        "        file_path.append(ravdess + i + '/' + f)"
      ]
    },
    {
      "cell_type": "code",
      "execution_count": null,
      "id": "bc03ab40",
      "metadata": {
        "execution": {
          "iopub.execute_input": "2023-07-01T21:58:27.002306Z",
          "iopub.status.busy": "2023-07-01T21:58:27.001389Z",
          "iopub.status.idle": "2023-07-01T21:58:27.008771Z",
          "shell.execute_reply": "2023-07-01T21:58:27.007035Z"
        },
        "papermill": {
          "duration": 0.039502,
          "end_time": "2023-07-01T21:58:27.011112",
          "exception": false,
          "start_time": "2023-07-01T21:58:26.971610",
          "status": "completed"
        },
        "tags": [],
        "id": "bc03ab40"
      },
      "outputs": [],
      "source": [
        "print(actor[0])\n",
        "print(part[0])\n",
        "print(file_path[0])\n",
        "print(int(part[2]))\n",
        "print(f)"
      ]
    },
    {
      "cell_type": "code",
      "execution_count": null,
      "id": "71121f62",
      "metadata": {
        "execution": {
          "iopub.execute_input": "2023-07-01T21:58:27.070446Z",
          "iopub.status.busy": "2023-07-01T21:58:27.069814Z",
          "iopub.status.idle": "2023-07-01T21:58:27.100521Z",
          "shell.execute_reply": "2023-07-01T21:58:27.098738Z"
        },
        "papermill": {
          "duration": 0.062488,
          "end_time": "2023-07-01T21:58:27.102718",
          "exception": false,
          "start_time": "2023-07-01T21:58:27.040230",
          "status": "completed"
        },
        "tags": [],
        "id": "71121f62"
      },
      "outputs": [],
      "source": [
        "emotion_df = pd.DataFrame(file_emotion, columns=['Emotions'])\n",
        "path_df = pd.DataFrame(file_path, columns=['Path'])\n",
        "ravdess_df = pd.concat([emotion_df, path_df], axis=1)\n",
        "ravdess_df.Emotions.replace({1:'neutral', 2:'neutral', 3:'happy', 4:'sad', 5:'angry', 6:'fear', 7:'disgust', 8:'surprise'},inplace=True)\n",
        "print(ravdess_df.head())\n",
        "print(\"______________________________________________\")\n",
        "print(ravdess_df.tail())\n",
        "print(\"_______________________________________________\")\n",
        "print(ravdess_df.Emotions.value_counts())"
      ]
    },
    {
      "cell_type": "markdown",
      "source": [
        "**CREMA dataset**"
      ],
      "metadata": {
        "id": "T93Hs4jWwRYk"
      },
      "id": "T93Hs4jWwRYk"
    },
    {
      "cell_type": "code",
      "execution_count": null,
      "id": "9b35a002",
      "metadata": {
        "execution": {
          "iopub.execute_input": "2023-07-01T21:58:27.275432Z",
          "iopub.status.busy": "2023-07-01T21:58:27.274484Z",
          "iopub.status.idle": "2023-07-01T21:58:27.626451Z",
          "shell.execute_reply": "2023-07-01T21:58:27.625047Z"
        },
        "papermill": {
          "duration": 0.384579,
          "end_time": "2023-07-01T21:58:27.628914",
          "exception": false,
          "start_time": "2023-07-01T21:58:27.244335",
          "status": "completed"
        },
        "tags": [],
        "id": "9b35a002"
      },
      "outputs": [],
      "source": [
        "crema_directory_list = os.listdir(Crema)\n",
        "\n",
        "file_emotion = []\n",
        "file_path = []\n",
        "\n",
        "for file in crema_directory_list:\n",
        "    file_path.append(Crema + file)\n",
        "    part=file.split('_')\n",
        "    if part[2] == 'SAD':\n",
        "        file_emotion.append('sad')\n",
        "    elif part[2] == 'ANG':\n",
        "        file_emotion.append('angry')\n",
        "    elif part[2] == 'DIS':\n",
        "        file_emotion.append('disgust')\n",
        "    elif part[2] == 'FEA':\n",
        "        file_emotion.append('fear')\n",
        "    elif part[2] == 'HAP':\n",
        "        file_emotion.append('happy')\n",
        "    elif part[2] == 'NEU':\n",
        "        file_emotion.append('neutral')\n",
        "    else:\n",
        "        file_emotion.append('Unknown')\n",
        "\n",
        "emotion_df = pd.DataFrame(file_emotion, columns=['Emotions'])\n",
        "path_df = pd.DataFrame(file_path, columns=['Path'])\n",
        "Crema_df = pd.concat([emotion_df, path_df], axis=1)\n",
        "Crema_df.head()\n",
        "print(Crema_df.Emotions.value_counts())"
      ]
    },
    {
      "cell_type": "markdown",
      "id": "2bae30d6",
      "metadata": {
        "papermill": {
          "duration": 0.02909,
          "end_time": "2023-07-01T21:58:27.686675",
          "exception": false,
          "start_time": "2023-07-01T21:58:27.657585",
          "status": "completed"
        },
        "tags": [],
        "id": "2bae30d6"
      },
      "source": [
        "**TESS dataset**"
      ]
    },
    {
      "cell_type": "code",
      "execution_count": null,
      "id": "08917208",
      "metadata": {
        "execution": {
          "iopub.execute_input": "2023-07-01T21:58:27.804843Z",
          "iopub.status.busy": "2023-07-01T21:58:27.804223Z",
          "iopub.status.idle": "2023-07-01T21:58:28.553725Z",
          "shell.execute_reply": "2023-07-01T21:58:28.552135Z"
        },
        "papermill": {
          "duration": 0.782822,
          "end_time": "2023-07-01T21:58:28.556406",
          "exception": false,
          "start_time": "2023-07-01T21:58:27.773584",
          "status": "completed"
        },
        "tags": [],
        "id": "08917208"
      },
      "outputs": [],
      "source": [
        "tess_directory_list = os.listdir(Tess)\n",
        "\n",
        "file_emotion = []\n",
        "file_path = []\n",
        "\n",
        "for dir in tess_directory_list:\n",
        "    directories = os.listdir(Tess + dir)\n",
        "    for file in directories:\n",
        "        part = file.split('.')[0]\n",
        "        part = part.split('_')[2]\n",
        "        if part=='ps':\n",
        "            file_emotion.append('surprise')\n",
        "        else:\n",
        "            file_emotion.append(part)\n",
        "        file_path.append(Tess + dir + '/' + file)\n",
        "\n",
        "emotion_df = pd.DataFrame(file_emotion, columns=['Emotions'])\n",
        "path_df = pd.DataFrame(file_path, columns=['Path'])\n",
        "Tess_df = pd.concat([emotion_df, path_df], axis=1)\n",
        "Tess_df.head()\n",
        "print(Tess_df.Emotions.value_counts())"
      ]
    },
    {
      "cell_type": "markdown",
      "id": "ab1aa55c",
      "metadata": {
        "papermill": {
          "duration": 0.030963,
          "end_time": "2023-07-01T21:58:28.616889",
          "exception": false,
          "start_time": "2023-07-01T21:58:28.585926",
          "status": "completed"
        },
        "tags": [],
        "id": "ab1aa55c"
      },
      "source": [
        "**SAVEE Dataset**"
      ]
    },
    {
      "cell_type": "code",
      "execution_count": null,
      "id": "3fe9a901",
      "metadata": {
        "execution": {
          "iopub.execute_input": "2023-07-01T21:58:28.734188Z",
          "iopub.status.busy": "2023-07-01T21:58:28.732538Z",
          "iopub.status.idle": "2023-07-01T21:58:28.867431Z",
          "shell.execute_reply": "2023-07-01T21:58:28.865858Z"
        },
        "papermill": {
          "duration": 0.167293,
          "end_time": "2023-07-01T21:58:28.869797",
          "exception": false,
          "start_time": "2023-07-01T21:58:28.702504",
          "status": "completed"
        },
        "tags": [],
        "id": "3fe9a901"
      },
      "outputs": [],
      "source": [
        "savee_directory_list = os.listdir(Savee)\n",
        "\n",
        "file_emotion = []\n",
        "file_path = []\n",
        "\n",
        "for file in savee_directory_list:\n",
        "    file_path.append(Savee + file)\n",
        "    part = file.split('_')[1]\n",
        "    ele = part[:-6]\n",
        "    if ele=='a':\n",
        "        file_emotion.append('angry')\n",
        "    elif ele=='d':\n",
        "        file_emotion.append('disgust')\n",
        "    elif ele=='f':\n",
        "        file_emotion.append('fear')\n",
        "    elif ele=='h':\n",
        "        file_emotion.append('happy')\n",
        "    elif ele=='n':\n",
        "        file_emotion.append('neutral')\n",
        "    elif ele=='sa':\n",
        "        file_emotion.append('sad')\n",
        "    else:\n",
        "        file_emotion.append('surprise')\n",
        "\n",
        "emotion_df = pd.DataFrame(file_emotion, columns=['Emotions'])\n",
        "path_df = pd.DataFrame(file_path, columns=['Path'])\n",
        "Savee_df = pd.concat([emotion_df, path_df], axis=1)\n",
        "Savee_df.head()\n",
        "print(Savee_df.Emotions.value_counts())\n"
      ]
    },
    {
      "cell_type": "markdown",
      "id": "837aa17c",
      "metadata": {
        "papermill": {
          "duration": 0.028687,
          "end_time": "2023-07-01T21:58:28.927193",
          "exception": false,
          "start_time": "2023-07-01T21:58:28.898506",
          "status": "completed"
        },
        "tags": [],
        "id": "837aa17c"
      },
      "source": [
        "**Integration**"
      ]
    },
    {
      "cell_type": "code",
      "execution_count": null,
      "id": "157f12b1",
      "metadata": {
        "execution": {
          "iopub.execute_input": "2023-07-01T21:58:28.986977Z",
          "iopub.status.busy": "2023-07-01T21:58:28.986031Z",
          "iopub.status.idle": "2023-07-01T21:58:29.057578Z",
          "shell.execute_reply": "2023-07-01T21:58:29.056474Z"
        },
        "papermill": {
          "duration": 0.104411,
          "end_time": "2023-07-01T21:58:29.060521",
          "exception": false,
          "start_time": "2023-07-01T21:58:28.956110",
          "status": "completed"
        },
        "tags": [],
        "id": "157f12b1"
      },
      "outputs": [],
      "source": [
        "data_path = pd.concat([ravdess_df, Crema_df, Tess_df, Savee_df], axis = 0)\n",
        "data_path.to_csv(\"data_path.csv\",index=False)\n",
        "data_path.head()"
      ]
    },
    {
      "cell_type": "code",
      "execution_count": null,
      "id": "ed814307",
      "metadata": {
        "execution": {
          "iopub.execute_input": "2023-07-01T21:58:29.120616Z",
          "iopub.status.busy": "2023-07-01T21:58:29.119640Z",
          "iopub.status.idle": "2023-07-01T21:58:29.128519Z",
          "shell.execute_reply": "2023-07-01T21:58:29.127285Z"
        },
        "papermill": {
          "duration": 0.04099,
          "end_time": "2023-07-01T21:58:29.130684",
          "exception": false,
          "start_time": "2023-07-01T21:58:29.089694",
          "status": "completed"
        },
        "tags": [],
        "id": "ed814307"
      },
      "outputs": [],
      "source": [
        "print(data_path.Emotions.value_counts())\n"
      ]
    },
    {
      "cell_type": "markdown",
      "id": "93aabf08",
      "metadata": {
        "papermill": {
          "duration": 0.029086,
          "end_time": "2023-07-01T21:58:29.188793",
          "exception": false,
          "start_time": "2023-07-01T21:58:29.159707",
          "status": "completed"
        },
        "tags": [],
        "id": "93aabf08"
      },
      "source": [
        "**Data Visualisation and Exploration**"
      ]
    },
    {
      "cell_type": "code",
      "execution_count": null,
      "id": "047b2ae1",
      "metadata": {
        "execution": {
          "iopub.execute_input": "2023-07-01T21:58:29.249568Z",
          "iopub.status.busy": "2023-07-01T21:58:29.248691Z",
          "iopub.status.idle": "2023-07-01T21:58:29.521063Z",
          "shell.execute_reply": "2023-07-01T21:58:29.520049Z"
        },
        "papermill": {
          "duration": 0.305511,
          "end_time": "2023-07-01T21:58:29.523709",
          "exception": false,
          "start_time": "2023-07-01T21:58:29.218198",
          "status": "completed"
        },
        "scrolled": true,
        "tags": [],
        "id": "047b2ae1"
      },
      "outputs": [],
      "source": [
        "import matplotlib.pyplot as plt\n",
        "import seaborn as sns\n",
        "\n",
        "plt.title('Count of Emotions', size=16)\n",
        "sns.countplot(data_path.Emotions)\n",
        "plt.ylabel('Count', size=12)\n",
        "plt.xlabel('Emotions', size=12)\n",
        "sns.despine(top=True, right=True, left=False, bottom=False)\n",
        "plt.show()"
      ]
    },
    {
      "cell_type": "code",
      "execution_count": null,
      "id": "e562f633",
      "metadata": {
        "execution": {
          "iopub.execute_input": "2023-07-01T21:58:29.586132Z",
          "iopub.status.busy": "2023-07-01T21:58:29.585778Z",
          "iopub.status.idle": "2023-07-01T21:58:31.225645Z",
          "shell.execute_reply": "2023-07-01T21:58:31.224212Z"
        },
        "papermill": {
          "duration": 1.673693,
          "end_time": "2023-07-01T21:58:31.228269",
          "exception": false,
          "start_time": "2023-07-01T21:58:29.554576",
          "status": "completed"
        },
        "tags": [],
        "id": "e562f633"
      },
      "outputs": [],
      "source": [
        "data,sr = librosa.load(file_path[0])\n",
        "sr"
      ]
    },
    {
      "cell_type": "code",
      "execution_count": null,
      "id": "e6acba22",
      "metadata": {
        "execution": {
          "iopub.execute_input": "2023-07-01T21:58:31.291693Z",
          "iopub.status.busy": "2023-07-01T21:58:31.291343Z",
          "iopub.status.idle": "2023-07-01T21:58:31.314448Z",
          "shell.execute_reply": "2023-07-01T21:58:31.313465Z"
        },
        "papermill": {
          "duration": 0.059365,
          "end_time": "2023-07-01T21:58:31.318773",
          "exception": false,
          "start_time": "2023-07-01T21:58:31.259408",
          "status": "completed"
        },
        "tags": [],
        "id": "e6acba22"
      },
      "outputs": [],
      "source": [
        "ipd.Audio(data,rate=sr)"
      ]
    },
    {
      "cell_type": "code",
      "execution_count": null,
      "id": "2069d348",
      "metadata": {
        "execution": {
          "iopub.execute_input": "2023-07-01T21:58:31.384732Z",
          "iopub.status.busy": "2023-07-01T21:58:31.384425Z",
          "iopub.status.idle": "2023-07-01T21:58:31.777841Z",
          "shell.execute_reply": "2023-07-01T21:58:31.776950Z"
        },
        "papermill": {
          "duration": 0.428919,
          "end_time": "2023-07-01T21:58:31.780053",
          "exception": false,
          "start_time": "2023-07-01T21:58:31.351134",
          "status": "completed"
        },
        "tags": [],
        "id": "2069d348"
      },
      "outputs": [],
      "source": [
        "plt.figure(figsize=(10, 5))\n",
        "spectrogram = librosa.feature.melspectrogram(y=data, sr=sr, n_mels=128,fmax=8000)\n",
        "log_spectrogram = librosa.power_to_db(spectrogram)\n",
        "librosa.display.specshow(log_spectrogram, y_axis='mel', sr=sr, x_axis='time');\n",
        "plt.title('Mel Spectrogram ')\n",
        "plt.colorbar(format='%+2.0f dB')"
      ]
    },
    {
      "cell_type": "code",
      "execution_count": null,
      "id": "22105f8d",
      "metadata": {
        "execution": {
          "iopub.execute_input": "2023-07-01T21:58:31.850882Z",
          "iopub.status.busy": "2023-07-01T21:58:31.850102Z",
          "iopub.status.idle": "2023-07-01T21:58:32.154912Z",
          "shell.execute_reply": "2023-07-01T21:58:32.153948Z"
        },
        "papermill": {
          "duration": 0.342563,
          "end_time": "2023-07-01T21:58:32.157210",
          "exception": false,
          "start_time": "2023-07-01T21:58:31.814647",
          "status": "completed"
        },
        "tags": [],
        "id": "22105f8d"
      },
      "outputs": [],
      "source": [
        "mfcc = librosa.feature.mfcc(y=data, sr=sr, n_mfcc=30)\n",
        "\n",
        "plt.figure(figsize=(16, 10))\n",
        "plt.subplot(3,1,1)\n",
        "librosa.display.specshow(mfcc, x_axis='time')\n",
        "plt.ylabel('MFCC')\n",
        "plt.colorbar()\n",
        "\n",
        "ipd.Audio(data,rate=sr)"
      ]
    },
    {
      "cell_type": "markdown",
      "id": "6f48242b",
      "metadata": {
        "papermill": {
          "duration": 0.037215,
          "end_time": "2023-07-01T21:58:32.232499",
          "exception": false,
          "start_time": "2023-07-01T21:58:32.195284",
          "status": "completed"
        },
        "tags": [],
        "id": "6f48242b"
      },
      "source": [
        "**Data** augmentation"
      ]
    },
    {
      "cell_type": "code",
      "execution_count": null,
      "id": "9e509d61",
      "metadata": {
        "execution": {
          "iopub.execute_input": "2023-07-01T21:58:32.309119Z",
          "iopub.status.busy": "2023-07-01T21:58:32.308708Z",
          "iopub.status.idle": "2023-07-01T21:58:32.316805Z",
          "shell.execute_reply": "2023-07-01T21:58:32.315864Z"
        },
        "papermill": {
          "duration": 0.049409,
          "end_time": "2023-07-01T21:58:32.319205",
          "exception": false,
          "start_time": "2023-07-01T21:58:32.269796",
          "status": "completed"
        },
        "tags": [],
        "id": "9e509d61"
      },
      "outputs": [],
      "source": [
        "def noise(data):\n",
        "    noise_amp = 0.035*np.random.uniform()*np.amax(data)\n",
        "    data = data + noise_amp*np.random.normal(size=data.shape[0])\n",
        "    return data\n",
        "\n",
        "def stretch(data, rate=0.8):\n",
        "    return librosa.effects.time_stretch(data, rate)\n",
        "\n",
        "def shift(data):\n",
        "    shift_range = int(np.random.uniform(low=-5, high = 5)*1000)\n",
        "    return np.roll(data, shift_range)\n",
        "\n",
        "def pitch(data, sampling_rate, pitch_factor=0.7):\n",
        "    return librosa.effects.pitch_shift(data, sampling_rate, pitch_factor)"
      ]
    },
    {
      "cell_type": "code",
      "execution_count": null,
      "id": "60e08b94",
      "metadata": {
        "execution": {
          "iopub.execute_input": "2023-07-01T21:58:32.395731Z",
          "iopub.status.busy": "2023-07-01T21:58:32.394851Z",
          "iopub.status.idle": "2023-07-01T21:58:32.812028Z",
          "shell.execute_reply": "2023-07-01T21:58:32.811070Z"
        },
        "papermill": {
          "duration": 0.458052,
          "end_time": "2023-07-01T21:58:32.814399",
          "exception": false,
          "start_time": "2023-07-01T21:58:32.356347",
          "status": "completed"
        },
        "tags": [],
        "id": "60e08b94"
      },
      "outputs": [],
      "source": [
        "# NORMAL AUDIO\n",
        "\n",
        "import librosa.display\n",
        "plt.figure(figsize=(12, 5))\n",
        "librosa.display.waveshow(y=data, sr=sr)\n",
        "ipd.Audio(data,rate=sr)"
      ]
    },
    {
      "cell_type": "code",
      "execution_count": null,
      "id": "ebb8f8f6",
      "metadata": {
        "execution": {
          "iopub.execute_input": "2023-07-01T21:58:32.900486Z",
          "iopub.status.busy": "2023-07-01T21:58:32.899829Z",
          "iopub.status.idle": "2023-07-01T21:58:33.331253Z",
          "shell.execute_reply": "2023-07-01T21:58:33.330272Z"
        },
        "papermill": {
          "duration": 0.477332,
          "end_time": "2023-07-01T21:58:33.333535",
          "exception": false,
          "start_time": "2023-07-01T21:58:32.856203",
          "status": "completed"
        },
        "tags": [],
        "id": "ebb8f8f6"
      },
      "outputs": [],
      "source": [
        "# AUDIO WITH NOISE\n",
        "x = noise(data)\n",
        "plt.figure(figsize=(12,5))\n",
        "librosa.display.waveshow(y=x, sr=sr)\n",
        "ipd.Audio(x, rate=sr)"
      ]
    },
    {
      "cell_type": "code",
      "execution_count": null,
      "id": "8d710ec9",
      "metadata": {
        "execution": {
          "iopub.execute_input": "2023-07-01T21:58:33.426343Z",
          "iopub.status.busy": "2023-07-01T21:58:33.425686Z",
          "iopub.status.idle": "2023-07-01T21:58:34.311854Z",
          "shell.execute_reply": "2023-07-01T21:58:34.310892Z"
        },
        "papermill": {
          "duration": 0.935507,
          "end_time": "2023-07-01T21:58:34.314143",
          "exception": false,
          "start_time": "2023-07-01T21:58:33.378636",
          "status": "completed"
        },
        "tags": [],
        "id": "8d710ec9"
      },
      "outputs": [],
      "source": [
        "# STRETCHED AUDIO\n",
        "x = stretch(data)\n",
        "plt.figure(figsize=(12, 5))\n",
        "librosa.display.waveshow(y=x, sr=sr)\n",
        "ipd.Audio(x, rate=sr)"
      ]
    },
    {
      "cell_type": "code",
      "execution_count": null,
      "id": "3acb3848",
      "metadata": {
        "execution": {
          "iopub.execute_input": "2023-07-01T21:58:34.417092Z",
          "iopub.status.busy": "2023-07-01T21:58:34.416062Z",
          "iopub.status.idle": "2023-07-01T21:58:34.835821Z",
          "shell.execute_reply": "2023-07-01T21:58:34.834670Z"
        },
        "papermill": {
          "duration": 0.474343,
          "end_time": "2023-07-01T21:58:34.839092",
          "exception": false,
          "start_time": "2023-07-01T21:58:34.364749",
          "status": "completed"
        },
        "tags": [],
        "id": "3acb3848"
      },
      "outputs": [],
      "source": [
        "# SHIFTED AUDIO\n",
        "x = shift(data)\n",
        "plt.figure(figsize=(12,5))\n",
        "librosa.display.waveshow(y=x, sr=sr)\n",
        "ipd.Audio(x, rate=sr)"
      ]
    },
    {
      "cell_type": "code",
      "execution_count": null,
      "id": "4537b9ac",
      "metadata": {
        "execution": {
          "iopub.execute_input": "2023-07-01T21:58:34.948499Z",
          "iopub.status.busy": "2023-07-01T21:58:34.948117Z",
          "iopub.status.idle": "2023-07-01T21:58:35.475808Z",
          "shell.execute_reply": "2023-07-01T21:58:35.474710Z"
        },
        "papermill": {
          "duration": 0.58569,
          "end_time": "2023-07-01T21:58:35.478918",
          "exception": false,
          "start_time": "2023-07-01T21:58:34.893228",
          "status": "completed"
        },
        "tags": [],
        "id": "4537b9ac"
      },
      "outputs": [],
      "source": [
        "# AUDIO WITH PITCH\n",
        "x = pitch(data, sr)\n",
        "plt.figure(figsize=(12, 5))\n",
        "librosa.display.waveshow(y=x, sr=sr)\n",
        "ipd.Audio(x, rate=sr)"
      ]
    },
    {
      "cell_type": "markdown",
      "id": "9442fb0f",
      "metadata": {
        "papermill": {
          "duration": 0.057118,
          "end_time": "2023-07-01T21:58:35.593863",
          "exception": false,
          "start_time": "2023-07-01T21:58:35.536745",
          "status": "completed"
        },
        "tags": [],
        "id": "9442fb0f"
      },
      "source": [
        "**Feature extraction**"
      ]
    },
    {
      "cell_type": "code",
      "execution_count": null,
      "id": "fa14d7c5",
      "metadata": {
        "execution": {
          "iopub.execute_input": "2023-07-01T21:58:35.713872Z",
          "iopub.status.busy": "2023-07-01T21:58:35.712859Z",
          "iopub.status.idle": "2023-07-01T21:58:35.726973Z",
          "shell.execute_reply": "2023-07-01T21:58:35.726045Z"
        },
        "papermill": {
          "duration": 0.075607,
          "end_time": "2023-07-01T21:58:35.729284",
          "exception": false,
          "start_time": "2023-07-01T21:58:35.653677",
          "status": "completed"
        },
        "tags": [],
        "id": "fa14d7c5"
      },
      "outputs": [],
      "source": [
        "def zcr(data,frame_length,hop_length):\n",
        "    zcr=librosa.feature.zero_crossing_rate(data,frame_length=frame_length,hop_length=hop_length)\n",
        "    return np.squeeze(zcr)\n",
        "def rmse(data,frame_length=2048,hop_length=512):\n",
        "    rmse=librosa.feature.rms(data,frame_length=frame_length,hop_length=hop_length)\n",
        "    return np.squeeze(rmse)\n",
        "def mfcc(data,sr,frame_length=2048,hop_length=512,flatten:bool=True):\n",
        "    mfcc=librosa.feature.mfcc(data,sr=sr)\n",
        "    return np.squeeze(mfcc.T)if not flatten else np.ravel(mfcc.T)\n",
        "\n",
        "def extract_features(data,sr=22050,frame_length=2048,hop_length=512):\n",
        "    result=np.array([])\n",
        "\n",
        "    result=np.hstack((result,\n",
        "                      zcr(data,frame_length,hop_length),\n",
        "                      rmse(data,frame_length,hop_length),\n",
        "                      mfcc(data,sr,frame_length,hop_length)\n",
        "                     ))\n",
        "    return result\n",
        "\n",
        "def get_features(path,duration=2.5, offset=0.6):\n",
        "    data,sr=librosa.load(path,duration=duration,offset=offset)\n",
        "    aud=extract_features(data)\n",
        "    audio=np.array(aud)\n",
        "\n",
        "    noised_audio=noise(data)\n",
        "    aud2=extract_features(noised_audio)\n",
        "    audio=np.vstack((audio,aud2))\n",
        "\n",
        "    pitched_audio=pitch(data,sr)\n",
        "    aud3=extract_features(pitched_audio)\n",
        "    audio=np.vstack((audio,aud3))\n",
        "\n",
        "    pitched_audio1=pitch(data,sr)\n",
        "    pitched_noised_audio=noise(pitched_audio1)\n",
        "    aud4=extract_features(pitched_noised_audio)\n",
        "    audio=np.vstack((audio,aud4))\n",
        "\n",
        "    return audio"
      ]
    },
    {
      "cell_type": "code",
      "execution_count": null,
      "id": "9982f78f",
      "metadata": {
        "execution": {
          "iopub.execute_input": "2023-07-01T21:58:35.847098Z",
          "iopub.status.busy": "2023-07-01T21:58:35.846728Z",
          "iopub.status.idle": "2023-07-01T21:58:35.852414Z",
          "shell.execute_reply": "2023-07-01T21:58:35.851279Z"
        },
        "papermill": {
          "duration": 0.06852,
          "end_time": "2023-07-01T21:58:35.854953",
          "exception": false,
          "start_time": "2023-07-01T21:58:35.786433",
          "status": "completed"
        },
        "tags": [],
        "id": "9982f78f"
      },
      "outputs": [],
      "source": [
        "import multiprocessing as mp\n",
        "print(\"Number of processors: \", mp.cpu_count())"
      ]
    },
    {
      "cell_type": "markdown",
      "id": "ed1776e2",
      "metadata": {
        "papermill": {
          "duration": 0.059516,
          "end_time": "2023-07-01T21:58:35.971565",
          "exception": false,
          "start_time": "2023-07-01T21:58:35.912049",
          "status": "completed"
        },
        "tags": [],
        "id": "ed1776e2"
      },
      "source": [
        "**Normal way to get features**"
      ]
    },
    {
      "cell_type": "code",
      "execution_count": null,
      "id": "bbdd6009",
      "metadata": {
        "execution": {
          "iopub.execute_input": "2023-07-01T21:58:36.100913Z",
          "iopub.status.busy": "2023-07-01T21:58:36.099355Z",
          "iopub.status.idle": "2023-07-01T23:31:50.648400Z",
          "shell.execute_reply": "2023-07-01T23:31:50.647337Z"
        },
        "papermill": {
          "duration": 5594.622212,
          "end_time": "2023-07-01T23:31:50.651443",
          "exception": false,
          "start_time": "2023-07-01T21:58:36.029231",
          "status": "completed"
        },
        "tags": [],
        "id": "bbdd6009"
      },
      "outputs": [],
      "source": [
        "import timeit\n",
        "from tqdm import tqdm\n",
        "start = timeit.default_timer()\n",
        "X,Y=[],[]\n",
        "for path,emotion,index in tqdm (zip(data_path.Path,data_path.Emotions,range(data_path.Path.shape[0]))):\n",
        "    features=get_features(path)\n",
        "    if index%500==0:\n",
        "        print(f'{index} audio has been processed')\n",
        "    for i in features:\n",
        "        X.append(i)\n",
        "        Y.append(emotion)\n",
        "print('Done')\n",
        "stop = timeit.default_timer()\n",
        "\n",
        "print('Time: ', stop - start)"
      ]
    },
    {
      "cell_type": "code",
      "execution_count": null,
      "id": "36154b8f",
      "metadata": {
        "execution": {
          "iopub.execute_input": "2023-07-01T23:31:56.810882Z",
          "iopub.status.busy": "2023-07-01T23:31:56.810509Z",
          "iopub.status.idle": "2023-07-01T23:31:56.819769Z",
          "shell.execute_reply": "2023-07-01T23:31:56.818746Z"
        },
        "papermill": {
          "duration": 1.000793,
          "end_time": "2023-07-01T23:31:56.822151",
          "exception": false,
          "start_time": "2023-07-01T23:31:55.821358",
          "status": "completed"
        },
        "tags": [],
        "id": "36154b8f"
      },
      "outputs": [],
      "source": [
        "\"\"\"from joblib import Parallel, delayed\n",
        "import timeit\n",
        "start = timeit.default_timer()\n",
        "# Define a function to get features for a single audio file\n",
        "def process_feature(path, emotion):\n",
        "    features = get_features(path)\n",
        "    X = []\n",
        "    Y = []\n",
        "    for ele in features:\n",
        "        X.append(ele)\n",
        "        # appending emotion 3 times as we have made 3 augmentation techniques on each audio file.\n",
        "        Y.append(emotion)\n",
        "    return X, Y\n",
        "\n",
        "paths = data_path.Path\n",
        "emotions = data_path.Emotions\n",
        "\n",
        "# Run the loop in parallel\n",
        "results = Parallel(n_jobs=-1)(delayed(process_feature)(path, emotion) for (path, emotion) in zip(paths, emotions))\n",
        "\n",
        "# Collect the results\n",
        "X = []\n",
        "Y = []\n",
        "for result in results:\n",
        "    x, y = result\n",
        "    X.extend(x)\n",
        "    Y.extend(y)\n",
        "\n",
        "\n",
        "stop = timeit.default_timer()\n",
        "\n",
        "print('Time: ', stop - start)    \"\"\""
      ]
    },
    {
      "cell_type": "code",
      "execution_count": null,
      "id": "dc32c307",
      "metadata": {
        "execution": {
          "iopub.execute_input": "2023-07-01T23:31:58.752586Z",
          "iopub.status.busy": "2023-07-01T23:31:58.752167Z",
          "iopub.status.idle": "2023-07-01T23:31:58.759161Z",
          "shell.execute_reply": "2023-07-01T23:31:58.758232Z"
        },
        "papermill": {
          "duration": 0.995293,
          "end_time": "2023-07-01T23:31:58.761200",
          "exception": false,
          "start_time": "2023-07-01T23:31:57.765907",
          "status": "completed"
        },
        "tags": [],
        "id": "dc32c307"
      },
      "outputs": [],
      "source": [
        "len(X), len(Y), data_path.Path.shape\n"
      ]
    },
    {
      "cell_type": "markdown",
      "id": "04687951",
      "metadata": {
        "papermill": {
          "duration": 0.928271,
          "end_time": "2023-07-01T23:32:00.687697",
          "exception": false,
          "start_time": "2023-07-01T23:31:59.759426",
          "status": "completed"
        },
        "tags": [],
        "id": "04687951"
      },
      "source": [
        "**Saving features**"
      ]
    },
    {
      "cell_type": "code",
      "execution_count": null,
      "id": "0f976f48",
      "metadata": {
        "execution": {
          "iopub.execute_input": "2023-07-01T23:32:02.607835Z",
          "iopub.status.busy": "2023-07-01T23:32:02.607454Z",
          "iopub.status.idle": "2023-07-01T23:35:37.913990Z",
          "shell.execute_reply": "2023-07-01T23:35:37.912933Z"
        },
        "papermill": {
          "duration": 217.247338,
          "end_time": "2023-07-01T23:35:38.923513",
          "exception": false,
          "start_time": "2023-07-01T23:32:01.676175",
          "status": "completed"
        },
        "tags": [],
        "id": "0f976f48"
      },
      "outputs": [],
      "source": [
        "Emotions = pd.DataFrame(X)\n",
        "Emotions['Emotions'] = Y\n",
        "Emotions.to_csv('emotion.csv', index=False)\n",
        "Emotions.head()"
      ]
    },
    {
      "cell_type": "code",
      "execution_count": null,
      "id": "2a6c14a0",
      "metadata": {
        "execution": {
          "iopub.execute_input": "2023-07-01T23:35:40.911535Z",
          "iopub.status.busy": "2023-07-01T23:35:40.911141Z",
          "iopub.status.idle": "2023-07-01T23:36:09.448029Z",
          "shell.execute_reply": "2023-07-01T23:36:09.446949Z"
        },
        "papermill": {
          "duration": 29.541249,
          "end_time": "2023-07-01T23:36:09.450438",
          "exception": false,
          "start_time": "2023-07-01T23:35:39.909189",
          "status": "completed"
        },
        "tags": [],
        "id": "2a6c14a0"
      },
      "outputs": [],
      "source": [
        "Emotions = pd.read_csv('./emotion.csv')\n",
        "Emotions.head()"
      ]
    },
    {
      "cell_type": "code",
      "execution_count": null,
      "id": "0063edd8",
      "metadata": {
        "execution": {
          "iopub.execute_input": "2023-07-01T23:36:11.369634Z",
          "iopub.status.busy": "2023-07-01T23:36:11.369241Z",
          "iopub.status.idle": "2023-07-01T23:36:11.482476Z",
          "shell.execute_reply": "2023-07-01T23:36:11.481053Z"
        },
        "papermill": {
          "duration": 1.045984,
          "end_time": "2023-07-01T23:36:11.484767",
          "exception": false,
          "start_time": "2023-07-01T23:36:10.438783",
          "status": "completed"
        },
        "tags": [],
        "id": "0063edd8"
      },
      "outputs": [],
      "source": [
        "print(Emotions.isna().any())"
      ]
    },
    {
      "cell_type": "code",
      "execution_count": null,
      "id": "3939ae02",
      "metadata": {
        "execution": {
          "iopub.execute_input": "2023-07-01T23:36:13.431595Z",
          "iopub.status.busy": "2023-07-01T23:36:13.431211Z",
          "iopub.status.idle": "2023-07-01T23:36:14.075309Z",
          "shell.execute_reply": "2023-07-01T23:36:14.074229Z"
        },
        "papermill": {
          "duration": 1.586623,
          "end_time": "2023-07-01T23:36:14.077551",
          "exception": false,
          "start_time": "2023-07-01T23:36:12.490928",
          "status": "completed"
        },
        "tags": [],
        "id": "3939ae02"
      },
      "outputs": [],
      "source": [
        "Emotions=Emotions.fillna(0)\n",
        "print(Emotions.isna().any())\n",
        "Emotions.shape"
      ]
    },
    {
      "cell_type": "code",
      "execution_count": null,
      "id": "abdeab7a",
      "metadata": {
        "execution": {
          "iopub.execute_input": "2023-07-01T23:36:16.020207Z",
          "iopub.status.busy": "2023-07-01T23:36:16.019707Z",
          "iopub.status.idle": "2023-07-01T23:36:16.236856Z",
          "shell.execute_reply": "2023-07-01T23:36:16.235849Z"
        },
        "papermill": {
          "duration": 1.165092,
          "end_time": "2023-07-01T23:36:16.239047",
          "exception": false,
          "start_time": "2023-07-01T23:36:15.073955",
          "status": "completed"
        },
        "tags": [],
        "id": "abdeab7a"
      },
      "outputs": [],
      "source": [
        "np.sum(Emotions.isna())"
      ]
    },
    {
      "cell_type": "markdown",
      "id": "2555e34d",
      "metadata": {
        "papermill": {
          "duration": 1.020431,
          "end_time": "2023-07-01T23:36:18.189692",
          "exception": false,
          "start_time": "2023-07-01T23:36:17.169261",
          "status": "completed"
        },
        "tags": [],
        "id": "2555e34d"
      },
      "source": [
        "**Data preparation**"
      ]
    },
    {
      "cell_type": "code",
      "execution_count": null,
      "id": "d9a137c0",
      "metadata": {
        "execution": {
          "iopub.execute_input": "2023-07-01T23:36:20.171306Z",
          "iopub.status.busy": "2023-07-01T23:36:20.170885Z",
          "iopub.status.idle": "2023-07-01T23:36:21.007213Z",
          "shell.execute_reply": "2023-07-01T23:36:21.006056Z"
        },
        "papermill": {
          "duration": 1.891783,
          "end_time": "2023-07-01T23:36:21.010232",
          "exception": false,
          "start_time": "2023-07-01T23:36:19.118449",
          "status": "completed"
        },
        "tags": [],
        "id": "d9a137c0"
      },
      "outputs": [],
      "source": [
        "X = Emotions.iloc[: ,:-1].values\n",
        "Y = Emotions['Emotions'].values"
      ]
    },
    {
      "cell_type": "code",
      "execution_count": null,
      "id": "99fc6f53",
      "metadata": {
        "execution": {
          "iopub.execute_input": "2023-07-01T23:36:22.930711Z",
          "iopub.status.busy": "2023-07-01T23:36:22.930320Z",
          "iopub.status.idle": "2023-07-01T23:36:22.959022Z",
          "shell.execute_reply": "2023-07-01T23:36:22.958053Z"
        },
        "papermill": {
          "duration": 1.021984,
          "end_time": "2023-07-01T23:36:22.961334",
          "exception": false,
          "start_time": "2023-07-01T23:36:21.939350",
          "status": "completed"
        },
        "tags": [],
        "id": "99fc6f53"
      },
      "outputs": [],
      "source": [
        "from sklearn.preprocessing import StandardScaler, OneHotEncoder\n",
        "encoder = OneHotEncoder()\n",
        "Y = encoder.fit_transform(np.array(Y).reshape(-1,1)).toarray()"
      ]
    },
    {
      "cell_type": "code",
      "execution_count": null,
      "id": "411b64ff",
      "metadata": {
        "execution": {
          "iopub.execute_input": "2023-07-01T23:36:24.840986Z",
          "iopub.status.busy": "2023-07-01T23:36:24.839901Z",
          "iopub.status.idle": "2023-07-01T23:36:24.848297Z",
          "shell.execute_reply": "2023-07-01T23:36:24.847253Z"
        },
        "papermill": {
          "duration": 0.948197,
          "end_time": "2023-07-01T23:36:24.850397",
          "exception": false,
          "start_time": "2023-07-01T23:36:23.902200",
          "status": "completed"
        },
        "tags": [],
        "id": "411b64ff"
      },
      "outputs": [],
      "source": [
        "print(Y.shape)\n",
        "X.shape"
      ]
    },
    {
      "cell_type": "code",
      "execution_count": null,
      "id": "17556703",
      "metadata": {
        "execution": {
          "iopub.execute_input": "2023-07-01T23:36:26.789686Z",
          "iopub.status.busy": "2023-07-01T23:36:26.788960Z",
          "iopub.status.idle": "2023-07-01T23:36:31.242841Z",
          "shell.execute_reply": "2023-07-01T23:36:31.241881Z"
        },
        "papermill": {
          "duration": 5.391928,
          "end_time": "2023-07-01T23:36:31.245218",
          "exception": false,
          "start_time": "2023-07-01T23:36:25.853290",
          "status": "completed"
        },
        "tags": [],
        "id": "17556703"
      },
      "outputs": [],
      "source": [
        "from sklearn.model_selection import train_test_split\n",
        "\n",
        "x_train, x_test, y_train, y_test = train_test_split(X, Y, random_state=42,test_size=0.2, shuffle=True)\n",
        "x_train.shape, y_train.shape, x_test.shape, y_test.shape"
      ]
    },
    {
      "cell_type": "code",
      "execution_count": null,
      "id": "7cbc0bfd",
      "metadata": {
        "execution": {
          "iopub.execute_input": "2023-07-01T23:36:33.197518Z",
          "iopub.status.busy": "2023-07-01T23:36:33.197136Z",
          "iopub.status.idle": "2023-07-01T23:36:33.202869Z",
          "shell.execute_reply": "2023-07-01T23:36:33.201892Z"
        },
        "papermill": {
          "duration": 1.022831,
          "end_time": "2023-07-01T23:36:33.205096",
          "exception": false,
          "start_time": "2023-07-01T23:36:32.182265",
          "status": "completed"
        },
        "tags": [],
        "id": "7cbc0bfd"
      },
      "outputs": [],
      "source": [
        "X_train = x_train.reshape(x_train.shape[0] , x_train.shape[1] , 1)\n",
        "X_test = x_test.reshape(x_test.shape[0] , x_test.shape[1] , 1)"
      ]
    },
    {
      "cell_type": "code",
      "execution_count": null,
      "id": "c4edea58",
      "metadata": {
        "execution": {
          "iopub.execute_input": "2023-07-01T23:36:35.134384Z",
          "iopub.status.busy": "2023-07-01T23:36:35.133766Z",
          "iopub.status.idle": "2023-07-01T23:36:37.687221Z",
          "shell.execute_reply": "2023-07-01T23:36:37.686264Z"
        },
        "papermill": {
          "duration": 3.552855,
          "end_time": "2023-07-01T23:36:37.690036",
          "exception": false,
          "start_time": "2023-07-01T23:36:34.137181",
          "status": "completed"
        },
        "tags": [],
        "id": "c4edea58"
      },
      "outputs": [],
      "source": [
        "scaler = StandardScaler()\n",
        "x_train = scaler.fit_transform(x_train)\n",
        "x_test = scaler.transform(x_test)\n",
        "x_train.shape, y_train.shape, x_test.shape, y_test.shape"
      ]
    },
    {
      "cell_type": "code",
      "execution_count": null,
      "id": "d70319d3",
      "metadata": {
        "execution": {
          "iopub.execute_input": "2023-07-01T23:36:39.801646Z",
          "iopub.status.busy": "2023-07-01T23:36:39.801261Z",
          "iopub.status.idle": "2023-07-01T23:36:39.810234Z",
          "shell.execute_reply": "2023-07-01T23:36:39.809271Z"
        },
        "papermill": {
          "duration": 1.07326,
          "end_time": "2023-07-01T23:36:39.812513",
          "exception": false,
          "start_time": "2023-07-01T23:36:38.739253",
          "status": "completed"
        },
        "tags": [],
        "id": "d70319d3"
      },
      "outputs": [],
      "source": [
        "import keras\n",
        "from keras.preprocessing import sequence\n",
        "from keras.models import Sequential\n",
        "from keras.layers import Dense, Embedding\n",
        "from keras.layers import LSTM,BatchNormalization , GRU\n",
        "from keras.preprocessing.text import Tokenizer\n",
        "from keras.preprocessing.sequence import pad_sequences\n",
        "from tensorflow.keras.utils import to_categorical\n",
        "from keras.layers import Input, Flatten, Dropout, Activation\n",
        "from keras.layers import Conv1D, MaxPooling1D, AveragePooling1D\n",
        "from keras.models import Model\n",
        "from keras.callbacks import ModelCheckpoint\n",
        "from tensorflow.keras.optimizers import SGD"
      ]
    },
    {
      "cell_type": "markdown",
      "id": "11421989",
      "metadata": {
        "papermill": {
          "duration": 0.989157,
          "end_time": "2023-07-01T23:36:41.733745",
          "exception": false,
          "start_time": "2023-07-01T23:36:40.744588",
          "status": "completed"
        },
        "tags": [],
        "id": "11421989"
      },
      "source": [
        "**Applying early stopping for all models**\n"
      ]
    },
    {
      "cell_type": "code",
      "execution_count": null,
      "id": "d1b560b5",
      "metadata": {
        "execution": {
          "iopub.execute_input": "2023-07-01T23:36:43.656961Z",
          "iopub.status.busy": "2023-07-01T23:36:43.656568Z",
          "iopub.status.idle": "2023-07-01T23:36:43.661766Z",
          "shell.execute_reply": "2023-07-01T23:36:43.660819Z"
        },
        "papermill": {
          "duration": 1.004643,
          "end_time": "2023-07-01T23:36:43.664044",
          "exception": false,
          "start_time": "2023-07-01T23:36:42.659401",
          "status": "completed"
        },
        "tags": [],
        "id": "d1b560b5"
      },
      "outputs": [],
      "source": [
        "from keras.callbacks import ModelCheckpoint, EarlyStopping,ReduceLROnPlateau\n",
        "model_checkpoint = ModelCheckpoint('best_model1_weights.h5', monitor='val_accuracy', save_best_only=True)"
      ]
    },
    {
      "cell_type": "code",
      "execution_count": null,
      "id": "9ea95cc3",
      "metadata": {
        "execution": {
          "iopub.execute_input": "2023-07-01T23:36:45.530400Z",
          "iopub.status.busy": "2023-07-01T23:36:45.529998Z",
          "iopub.status.idle": "2023-07-01T23:36:45.535539Z",
          "shell.execute_reply": "2023-07-01T23:36:45.534544Z"
        },
        "papermill": {
          "duration": 0.945059,
          "end_time": "2023-07-01T23:36:45.537699",
          "exception": false,
          "start_time": "2023-07-01T23:36:44.592640",
          "status": "completed"
        },
        "tags": [],
        "id": "9ea95cc3"
      },
      "outputs": [],
      "source": [
        "early_stop=EarlyStopping(monitor='val_acc',mode='auto',patience=5,restore_best_weights=True)\n",
        "lr_reduction=ReduceLROnPlateau(monitor='val_acc',patience=3,verbose=1,factor=0.5,min_lr=0.00001)"
      ]
    },
    {
      "cell_type": "markdown",
      "id": "135fd3c1",
      "metadata": {
        "papermill": {
          "duration": 0.941846,
          "end_time": "2023-07-01T23:36:47.496591",
          "exception": false,
          "start_time": "2023-07-01T23:36:46.554745",
          "status": "completed"
        },
        "tags": [],
        "id": "135fd3c1"
      },
      "source": [
        "**LSTM Model**"
      ]
    },
    {
      "cell_type": "code",
      "execution_count": null,
      "id": "7aaa6ed6",
      "metadata": {
        "execution": {
          "iopub.execute_input": "2023-07-01T23:36:51.404380Z",
          "iopub.status.busy": "2023-07-01T23:36:51.403944Z",
          "iopub.status.idle": "2023-07-01T23:36:51.411156Z",
          "shell.execute_reply": "2023-07-01T23:36:51.410194Z"
        },
        "papermill": {
          "duration": 1.000246,
          "end_time": "2023-07-01T23:36:51.414767",
          "exception": false,
          "start_time": "2023-07-01T23:36:50.414521",
          "status": "completed"
        },
        "tags": [],
        "id": "7aaa6ed6"
      },
      "outputs": [],
      "source": [
        "\"\"\"model01=Sequential()\n",
        "model01.add(LSTM(128,return_sequences=True,input_shape=(x_train.shape[1],1)))\n",
        "model01.add(Dropout(0.2))\n",
        "model01.add(LSTM(128,return_sequences=True))\n",
        "#model01.add(Dropout(0.2))\n",
        "model01.add(LSTM(128,return_sequences=True))\n",
        "#model01.add(Dropout(0.2))\n",
        "model01.add(LSTM(128,return_sequences=True))\n",
        "#model01.add(Dropout(0.2))\n",
        "model01.add(LSTM(128,return_sequences=True))\n",
        "#model01.add(Dropout(0.2))\n",
        "model01.add(LSTM(128,return_sequences=True))\n",
        "#model01.add(Dropout(0.3))\n",
        "model01.add(LSTM(128))\n",
        "#model01.add(Dropout(0.3))\n",
        "model01.add(Dense(7,activation = 'softmax'))\n",
        "model01.compile(loss='categorical_crossentropy',optimizer='adam',metrics=['accuracy'])\n",
        "model01.summary()\"\"\""
      ]
    },
    {
      "cell_type": "code",
      "execution_count": null,
      "id": "977ca563",
      "metadata": {
        "execution": {
          "iopub.execute_input": "2023-07-01T23:36:53.332263Z",
          "iopub.status.busy": "2023-07-01T23:36:53.331860Z",
          "iopub.status.idle": "2023-07-01T23:36:53.338401Z",
          "shell.execute_reply": "2023-07-01T23:36:53.337435Z"
        },
        "papermill": {
          "duration": 0.999737,
          "end_time": "2023-07-01T23:36:53.340714",
          "exception": false,
          "start_time": "2023-07-01T23:36:52.340977",
          "status": "completed"
        },
        "tags": [],
        "id": "977ca563"
      },
      "outputs": [],
      "source": [
        "\"\"\"hist=model01.fit(X_train, y_train,\n",
        "            epochs=20,\n",
        "            validation_data=(X_test, y_test),batch_size=64,\n",
        "            verbose=1)\"\"\""
      ]
    },
    {
      "cell_type": "code",
      "execution_count": null,
      "id": "3c081c22",
      "metadata": {
        "execution": {
          "iopub.execute_input": "2023-07-01T23:36:55.260718Z",
          "iopub.status.busy": "2023-07-01T23:36:55.259962Z",
          "iopub.status.idle": "2023-07-01T23:36:55.267768Z",
          "shell.execute_reply": "2023-07-01T23:36:55.266591Z"
        },
        "papermill": {
          "duration": 1.000565,
          "end_time": "2023-07-01T23:36:55.269960",
          "exception": false,
          "start_time": "2023-07-01T23:36:54.269395",
          "status": "completed"
        },
        "tags": [],
        "id": "3c081c22"
      },
      "outputs": [],
      "source": [
        "\"\"\"print(\"Accuracy of our model on test data : \" , model01.evaluate(X_test,y_test)[1]*100 , \"%\")\n",
        "epochs = [i for i in range(20)]\n",
        "fig , ax = plt.subplots(1,2)\n",
        "train_acc = hist.history['accuracy']\n",
        "train_loss = hist.history['loss']\n",
        "test_acc = hist.history['val_accuracy']\n",
        "test_loss = hist.history['val_loss']\n",
        "\n",
        "fig.set_size_inches(20,6)\n",
        "ax[0].plot(epochs , train_loss , label = 'Training Loss')\n",
        "ax[0].plot(epochs , test_loss , label = 'Testing Loss')\n",
        "ax[0].set_title('Training & Testing Loss')\n",
        "ax[0].legend()\n",
        "ax[0].set_xlabel(\"Epochs\")\n",
        "\n",
        "ax[1].plot(epochs , train_acc , label = 'Training Accuracy')\n",
        "ax[1].plot(epochs , test_acc , label = 'Testing Accuracy')\n",
        "ax[1].set_title('Training & Testing Accuracy')\n",
        "ax[1].legend()\n",
        "ax[1].set_xlabel(\"Epochs\")\n",
        "plt.show()\"\"\""
      ]
    },
    {
      "cell_type": "markdown",
      "id": "65a8918d",
      "metadata": {
        "papermill": {
          "duration": 0.979971,
          "end_time": "2023-07-01T23:36:57.179433",
          "exception": false,
          "start_time": "2023-07-01T23:36:56.199462",
          "status": "completed"
        },
        "tags": [],
        "id": "65a8918d"
      },
      "source": [
        "**CNN model**"
      ]
    },
    {
      "cell_type": "code",
      "execution_count": null,
      "id": "03406a07",
      "metadata": {
        "execution": {
          "iopub.execute_input": "2023-07-01T23:36:59.041540Z",
          "iopub.status.busy": "2023-07-01T23:36:59.041155Z",
          "iopub.status.idle": "2023-07-01T23:36:59.049325Z",
          "shell.execute_reply": "2023-07-01T23:36:59.048350Z"
        },
        "papermill": {
          "duration": 0.943769,
          "end_time": "2023-07-01T23:36:59.051616",
          "exception": false,
          "start_time": "2023-07-01T23:36:58.107847",
          "status": "completed"
        },
        "tags": [],
        "id": "03406a07"
      },
      "outputs": [],
      "source": [
        "x_traincnn =np.expand_dims(x_train, axis=2)\n",
        "x_testcnn= np.expand_dims(x_test, axis=2)\n",
        "x_traincnn.shape, y_train.shape, x_testcnn.shape, y_test.shape"
      ]
    },
    {
      "cell_type": "code",
      "execution_count": null,
      "id": "db9a0eae",
      "metadata": {
        "execution": {
          "iopub.execute_input": "2023-07-01T23:37:01.039054Z",
          "iopub.status.busy": "2023-07-01T23:37:01.038409Z",
          "iopub.status.idle": "2023-07-01T23:37:03.907786Z",
          "shell.execute_reply": "2023-07-01T23:37:03.906743Z"
        },
        "papermill": {
          "duration": 3.802153,
          "end_time": "2023-07-01T23:37:03.910139",
          "exception": false,
          "start_time": "2023-07-01T23:37:00.107986",
          "status": "completed"
        },
        "tags": [],
        "id": "db9a0eae"
      },
      "outputs": [],
      "source": [
        "import tensorflow.keras.layers as L\n",
        "\n",
        "model = tf.keras.Sequential([\n",
        "    L.Conv1D(512,kernel_size=5, strides=1,padding='same', activation='relu',input_shape=(X_train.shape[1],1)),\n",
        "    L.BatchNormalization(),\n",
        "    L.MaxPool1D(pool_size=5,strides=2,padding='same'),\n",
        "\n",
        "    L.Conv1D(512,kernel_size=5,strides=1,padding='same',activation='relu'),\n",
        "    L.BatchNormalization(),\n",
        "    L.MaxPool1D(pool_size=5,strides=2,padding='same'),\n",
        "    Dropout(0.2),\n",
        "\n",
        "    L.Conv1D(256,kernel_size=5,strides=1,padding='same',activation='relu'),\n",
        "    L.BatchNormalization(),\n",
        "    L.MaxPool1D(pool_size=5,strides=2,padding='same'),\n",
        "\n",
        "    L.Conv1D(256,kernel_size=3,strides=1,padding='same',activation='relu'),\n",
        "    L.BatchNormalization(),\n",
        "    L.MaxPool1D(pool_size=5,strides=2,padding='same'),\n",
        "    Dropout(0.2),\n",
        "\n",
        "    L.Conv1D(128,kernel_size=3,strides=1,padding='same',activation='relu'),\n",
        "    L.BatchNormalization(),\n",
        "    L.MaxPool1D(pool_size=3,strides=2,padding='same'),\n",
        "    Dropout(0.2),\n",
        "\n",
        "    L.Flatten(),\n",
        "    L.Dense(512,activation='relu'),\n",
        "    L.BatchNormalization(),\n",
        "    L.Dense(7,activation='softmax')\n",
        "])\n",
        "model.compile(optimizer='adam',loss='categorical_crossentropy',metrics='accuracy')\n",
        "model.summary()"
      ]
    },
    {
      "cell_type": "code",
      "execution_count": null,
      "id": "a5127682",
      "metadata": {
        "execution": {
          "iopub.execute_input": "2023-07-01T23:37:05.849020Z",
          "iopub.status.busy": "2023-07-01T23:37:05.848037Z",
          "iopub.status.idle": "2023-07-02T01:06:31.138148Z",
          "shell.execute_reply": "2023-07-02T01:06:31.137062Z"
        },
        "papermill": {
          "duration": 5366.229128,
          "end_time": "2023-07-02T01:06:31.140985",
          "exception": false,
          "start_time": "2023-07-01T23:37:04.911857",
          "status": "completed"
        },
        "tags": [],
        "id": "a5127682"
      },
      "outputs": [],
      "source": [
        "history=model.fit(x_traincnn, y_train, epochs=50, validation_data=(x_testcnn, y_test), batch_size=64,callbacks=[early_stop,lr_reduction,model_checkpoint])"
      ]
    },
    {
      "cell_type": "code",
      "execution_count": null,
      "id": "db30a414",
      "metadata": {
        "execution": {
          "iopub.execute_input": "2023-07-02T01:06:37.824704Z",
          "iopub.status.busy": "2023-07-02T01:06:37.823869Z",
          "iopub.status.idle": "2023-07-02T01:06:45.762776Z",
          "shell.execute_reply": "2023-07-02T01:06:45.761796Z"
        },
        "papermill": {
          "duration": 11.286907,
          "end_time": "2023-07-02T01:06:45.765388",
          "exception": false,
          "start_time": "2023-07-02T01:06:34.478481",
          "status": "completed"
        },
        "tags": [],
        "id": "db30a414"
      },
      "outputs": [],
      "source": [
        "print(\"Accuracy of our model on test data : \" , model.evaluate(x_testcnn,y_test)[1]*100 , \"%\")\n",
        "\n",
        "epochs = [i for i in range(50)]\n",
        "fig , ax = plt.subplots(1,2)\n",
        "train_acc = history.history['accuracy']\n",
        "train_loss = history.history['loss']\n",
        "test_acc = history.history['val_accuracy']\n",
        "test_loss = history.history['val_loss']\n",
        "\n",
        "fig.set_size_inches(20,6)\n",
        "ax[0].plot(epochs , train_loss , label = 'Training Loss')\n",
        "ax[0].plot(epochs , test_loss , label = 'Testing Loss')\n",
        "ax[0].set_title('Training & Testing Loss')\n",
        "ax[0].legend()\n",
        "ax[0].set_xlabel(\"Epochs\")\n",
        "\n",
        "ax[1].plot(epochs , train_acc , label = 'Training Accuracy')\n",
        "ax[1].plot(epochs , test_acc , label = 'Testing Accuracy')\n",
        "ax[1].set_title('Training & Testing Accuracy')\n",
        "ax[1].legend()\n",
        "ax[1].set_xlabel(\"Epochs\")\n",
        "plt.show()"
      ]
    },
    {
      "cell_type": "code",
      "execution_count": null,
      "id": "93645cb7",
      "metadata": {
        "execution": {
          "iopub.execute_input": "2023-07-02T01:06:52.431730Z",
          "iopub.status.busy": "2023-07-02T01:06:52.431277Z",
          "iopub.status.idle": "2023-07-02T01:06:59.178818Z",
          "shell.execute_reply": "2023-07-02T01:06:59.177870Z"
        },
        "papermill": {
          "duration": 10.106852,
          "end_time": "2023-07-02T01:06:59.181770",
          "exception": false,
          "start_time": "2023-07-02T01:06:49.074918",
          "status": "completed"
        },
        "tags": [],
        "id": "93645cb7"
      },
      "outputs": [],
      "source": [
        "# predicting on test data.\n",
        "pred_test0 = model.predict(x_testcnn)\n",
        "y_pred0 = encoder.inverse_transform(pred_test0)\n",
        "y_test0 = encoder.inverse_transform(y_test)\n",
        "\n",
        "# Check for random predictions\n",
        "df0 = pd.DataFrame(columns=['Predicted Labels', 'Actual Labels'])\n",
        "df0['Predicted Labels'] = y_pred0.flatten()\n",
        "df0['Actual Labels'] = y_test0.flatten()\n",
        "\n",
        "df0.head(10)"
      ]
    },
    {
      "cell_type": "code",
      "execution_count": null,
      "id": "4aea8fd2",
      "metadata": {
        "execution": {
          "iopub.execute_input": "2023-07-02T01:07:05.887969Z",
          "iopub.status.busy": "2023-07-02T01:07:05.887585Z",
          "iopub.status.idle": "2023-07-02T01:07:05.901494Z",
          "shell.execute_reply": "2023-07-02T01:07:05.900416Z"
        },
        "papermill": {
          "duration": 3.321128,
          "end_time": "2023-07-02T01:07:05.904053",
          "exception": false,
          "start_time": "2023-07-02T01:07:02.582925",
          "status": "completed"
        },
        "tags": [],
        "id": "4aea8fd2"
      },
      "outputs": [],
      "source": [
        "df0"
      ]
    },
    {
      "cell_type": "markdown",
      "id": "c06d5d60",
      "metadata": {
        "papermill": {
          "duration": 3.316897,
          "end_time": "2023-07-02T01:07:19.201222",
          "exception": false,
          "start_time": "2023-07-02T01:07:15.884325",
          "status": "completed"
        },
        "tags": [],
        "id": "c06d5d60"
      },
      "source": [
        "**CLSTM Model**"
      ]
    },
    {
      "cell_type": "code",
      "execution_count": null,
      "id": "2baf0452",
      "metadata": {
        "execution": {
          "iopub.execute_input": "2023-07-02T01:07:39.547266Z",
          "iopub.status.busy": "2023-07-02T01:07:39.546712Z",
          "iopub.status.idle": "2023-07-02T01:07:39.555015Z",
          "shell.execute_reply": "2023-07-02T01:07:39.554070Z"
        },
        "papermill": {
          "duration": 3.325863,
          "end_time": "2023-07-02T01:07:39.557291",
          "exception": false,
          "start_time": "2023-07-02T01:07:36.231428",
          "status": "completed"
        },
        "tags": [],
        "id": "2baf0452"
      },
      "outputs": [],
      "source": [
        "\"\"\"model000 = Sequential()\n",
        "model000.add(Conv1D(1024, kernel_size=5, strides=1, padding='same', activation='relu', input_shape=(X.shape[1], 1)))\n",
        "model000.add(MaxPooling1D(pool_size=2, strides = 2, padding = 'same'))\n",
        "model000.add(BatchNormalization())\n",
        "model000.add(Dropout(0.3))\n",
        "\n",
        "\n",
        "model000.add(Conv1D(512, kernel_size=5, strides=1, padding='same', activation='relu'))\n",
        "model000.add(MaxPooling1D(pool_size=2, strides = 2, padding = 'same'))\n",
        "model000.add(BatchNormalization())\n",
        "model000.add(Dropout(0.3))\n",
        "\n",
        "model000.add(Conv1D(256, kernel_size=5, strides=1, padding='same', activation='relu'))\n",
        "model000.add(MaxPooling1D(pool_size=2, strides = 2, padding = 'same'))\n",
        "model000.add(BatchNormalization())\n",
        "model000.add(Dropout(0.3))\n",
        "\n",
        "model000.add(LSTM(128, return_sequences=True))\n",
        "model000.add(Dropout(0.3))\n",
        "\n",
        "model000.add(LSTM(128, return_sequences=True))\n",
        "model000.add(Dropout(0.3))\n",
        "model000.add(LSTM(128))\n",
        "model000.add(Dropout(0.3))\n",
        "\n",
        "model000.add(Dense(128, activation='relu'))\n",
        "#model000.add(Dropout(0.3))\n",
        "\n",
        "model000.add(Dense(64, activation='relu'))\n",
        "#model000.add(Dropout(0.3))\n",
        "\n",
        "model000.add(Dense(32, activation='relu'))\n",
        "#model000.add(Dropout(0.3))\n",
        "\n",
        "model000.add(Dense(7, activation='softmax'))\n",
        "\n",
        "\n",
        "\n",
        "model000.summary()\"\"\""
      ]
    },
    {
      "cell_type": "code",
      "execution_count": null,
      "id": "5dc627d3",
      "metadata": {
        "execution": {
          "iopub.execute_input": "2023-07-02T01:07:46.215072Z",
          "iopub.status.busy": "2023-07-02T01:07:46.214632Z",
          "iopub.status.idle": "2023-07-02T01:07:46.221920Z",
          "shell.execute_reply": "2023-07-02T01:07:46.220856Z"
        },
        "papermill": {
          "duration": 3.313787,
          "end_time": "2023-07-02T01:07:46.224280",
          "exception": false,
          "start_time": "2023-07-02T01:07:42.910493",
          "status": "completed"
        },
        "tags": [],
        "id": "5dc627d3"
      },
      "outputs": [],
      "source": [
        "\"\"\"from keras.utils.vis_utils import plot_model\n",
        "plot_model( model000, show_shapes=True, show_layer_names=True, to_file='model000.png')\"\"\""
      ]
    },
    {
      "cell_type": "code",
      "execution_count": null,
      "id": "25af7bbf",
      "metadata": {
        "execution": {
          "iopub.execute_input": "2023-07-02T01:07:52.861697Z",
          "iopub.status.busy": "2023-07-02T01:07:52.861257Z",
          "iopub.status.idle": "2023-07-02T01:07:52.867828Z",
          "shell.execute_reply": "2023-07-02T01:07:52.866860Z"
        },
        "papermill": {
          "duration": 3.340075,
          "end_time": "2023-07-02T01:07:52.870201",
          "exception": false,
          "start_time": "2023-07-02T01:07:49.530126",
          "status": "completed"
        },
        "tags": [],
        "id": "25af7bbf"
      },
      "outputs": [],
      "source": [
        "\"\"\"model000.compile(loss='categorical_crossentropy', optimizer='adam', metrics=['accuracy'])\"\"\""
      ]
    },
    {
      "cell_type": "code",
      "execution_count": null,
      "id": "85f5d376",
      "metadata": {
        "execution": {
          "iopub.execute_input": "2023-07-02T01:07:59.599057Z",
          "iopub.status.busy": "2023-07-02T01:07:59.598647Z",
          "iopub.status.idle": "2023-07-02T01:07:59.610101Z",
          "shell.execute_reply": "2023-07-02T01:07:59.608987Z"
        },
        "papermill": {
          "duration": 3.38355,
          "end_time": "2023-07-02T01:07:59.615442",
          "exception": false,
          "start_time": "2023-07-02T01:07:56.231892",
          "status": "completed"
        },
        "tags": [],
        "id": "85f5d376"
      },
      "outputs": [],
      "source": [
        "\"\"\"hist1=model000.fit(x_traincnn, y_train, batch_size=64, epochs=40, validation_data=(x_testcnn, y_test))\"\"\""
      ]
    },
    {
      "cell_type": "code",
      "execution_count": null,
      "id": "4454f31e",
      "metadata": {
        "execution": {
          "iopub.execute_input": "2023-07-02T01:08:06.749387Z",
          "iopub.status.busy": "2023-07-02T01:08:06.748980Z",
          "iopub.status.idle": "2023-07-02T01:08:06.756218Z",
          "shell.execute_reply": "2023-07-02T01:08:06.755250Z"
        },
        "papermill": {
          "duration": 3.310027,
          "end_time": "2023-07-02T01:08:06.758342",
          "exception": false,
          "start_time": "2023-07-02T01:08:03.448315",
          "status": "completed"
        },
        "tags": [],
        "id": "4454f31e"
      },
      "outputs": [],
      "source": [
        "\"\"\"print(\"Accuracy of our model on test data : \" , model000.evaluate(x_testcnn,y_test)[1]*100 , \"%\")\n",
        "epochs = [i for i in range(40)]\n",
        "fig , ax = plt.subplots(1,2)\n",
        "train_acc = hist1.history['accuracy']\n",
        "train_loss = hist1.history['loss']\n",
        "test_acc = hist1.history['val_accuracy']\n",
        "test_loss = hist1.history['val_loss']\n",
        "\n",
        "fig.set_size_inches(20,6)\n",
        "ax[0].plot(epochs , train_loss , label = 'Training Loss')\n",
        "ax[0].plot(epochs , test_loss , label = 'Testing Loss')\n",
        "ax[0].set_title('Training & Testing Loss')\n",
        "ax[0].legend()\n",
        "ax[0].set_xlabel(\"Epochs\")\n",
        "\n",
        "ax[1].plot(epochs , train_acc , label = 'Training Accuracy')\n",
        "ax[1].plot(epochs , test_acc , label = 'Testing Accuracy')\n",
        "ax[1].set_title('Training & Testing Accuracy')\n",
        "ax[1].legend()\n",
        "ax[1].set_xlabel(\"Epochs\")\n",
        "plt.show()\"\"\""
      ]
    },
    {
      "cell_type": "code",
      "execution_count": null,
      "id": "541d7901",
      "metadata": {
        "execution": {
          "iopub.execute_input": "2023-07-02T01:08:13.399908Z",
          "iopub.status.busy": "2023-07-02T01:08:13.399508Z",
          "iopub.status.idle": "2023-07-02T01:08:13.406328Z",
          "shell.execute_reply": "2023-07-02T01:08:13.405341Z"
        },
        "papermill": {
          "duration": 3.298633,
          "end_time": "2023-07-02T01:08:13.408810",
          "exception": false,
          "start_time": "2023-07-02T01:08:10.110177",
          "status": "completed"
        },
        "tags": [],
        "id": "541d7901"
      },
      "outputs": [],
      "source": [
        "# predicting on test data.\n",
        "\"\"\"pred_test00 = model000.predict(x_testcnn)\n",
        "y_pred00 = encoder.inverse_transform(pred_test)\n",
        "y_test00 = encoder.inverse_transform(y_test)\n",
        "\n",
        "# Check for random predictions\n",
        "df0 = pd.DataFrame(columns=['Predicted Labels', 'Actual Labels'])\n",
        "df0['Predicted Labels'] = y_pred00.flatten()\n",
        "df0['Actual Labels'] = y_test00.flatten()\n",
        "\n",
        "df0.head(10)\"\"\""
      ]
    },
    {
      "cell_type": "markdown",
      "id": "fadcd00c",
      "metadata": {
        "papermill": {
          "duration": 3.383851,
          "end_time": "2023-07-02T01:08:20.093267",
          "exception": false,
          "start_time": "2023-07-02T01:08:16.709416",
          "status": "completed"
        },
        "tags": [],
        "id": "fadcd00c"
      },
      "source": [
        "**Evalutation**"
      ]
    },
    {
      "cell_type": "code",
      "execution_count": null,
      "id": "9516b958",
      "metadata": {
        "execution": {
          "iopub.execute_input": "2023-07-02T01:08:33.386393Z",
          "iopub.status.busy": "2023-07-02T01:08:33.385890Z",
          "iopub.status.idle": "2023-07-02T01:08:34.743371Z",
          "shell.execute_reply": "2023-07-02T01:08:34.742306Z"
        },
        "papermill": {
          "duration": 4.720065,
          "end_time": "2023-07-02T01:08:34.746051",
          "exception": false,
          "start_time": "2023-07-02T01:08:30.025986",
          "status": "completed"
        },
        "tags": [],
        "id": "9516b958"
      },
      "outputs": [],
      "source": [
        "from sklearn.metrics import confusion_matrix,classification_report\n",
        "cm = confusion_matrix(y_test0, y_pred0)\n",
        "plt.figure(figsize = (12, 10))\n",
        "cm = pd.DataFrame(cm , index = [i for i in encoder.categories_] , columns = [i for i in encoder.categories_])\n",
        "#cm = cm.astype('float') / cm.sum(axis=1)[:, np.newaxis]\n",
        "sns.heatmap(cm, linecolor='white', cmap='Blues', linewidth=1, annot=True, fmt='.2f')\n",
        "plt.title('Confusion Matrix', size=20)\n",
        "plt.xlabel('Predicted Labels', size=14)\n",
        "plt.ylabel('Actual Labels', size=14)\n",
        "plt.show()\n",
        "print(classification_report(y_test0, y_pred0))"
      ]
    },
    {
      "cell_type": "markdown",
      "id": "09eb0ac2",
      "metadata": {
        "papermill": {
          "duration": 3.350496,
          "end_time": "2023-07-02T01:08:41.423335",
          "exception": false,
          "start_time": "2023-07-02T01:08:38.072839",
          "status": "completed"
        },
        "tags": [],
        "id": "09eb0ac2"
      },
      "source": [
        "**Saving Best Model**"
      ]
    },
    {
      "cell_type": "code",
      "execution_count": null,
      "id": "ddd192ec",
      "metadata": {
        "execution": {
          "iopub.execute_input": "2023-07-02T01:08:48.090710Z",
          "iopub.status.busy": "2023-07-02T01:08:48.089941Z",
          "iopub.status.idle": "2023-07-02T01:08:48.178237Z",
          "shell.execute_reply": "2023-07-02T01:08:48.176992Z"
        },
        "papermill": {
          "duration": 3.433255,
          "end_time": "2023-07-02T01:08:48.180589",
          "exception": false,
          "start_time": "2023-07-02T01:08:44.747334",
          "status": "completed"
        },
        "tags": [],
        "id": "ddd192ec"
      },
      "outputs": [],
      "source": [
        "# MLP for Pima Indians Dataset Serialize to JSON and HDF5\n",
        "from tensorflow.keras.models import Sequential, model_from_json\n",
        "model_json = model.to_json()\n",
        "with open(\"CNN_model.json\", \"w\") as json_file:\n",
        "    json_file.write(model_json)\n",
        "\n",
        "model.save_weights(\"CNN_model_weights.h5\")\n",
        "print(\"Saved model to disk\")"
      ]
    },
    {
      "cell_type": "code",
      "execution_count": null,
      "id": "c179cec5",
      "metadata": {
        "execution": {
          "iopub.execute_input": "2023-07-02T01:08:54.843825Z",
          "iopub.status.busy": "2023-07-02T01:08:54.843430Z",
          "iopub.status.idle": "2023-07-02T01:08:55.085606Z",
          "shell.execute_reply": "2023-07-02T01:08:55.084539Z"
        },
        "papermill": {
          "duration": 3.576073,
          "end_time": "2023-07-02T01:08:55.088204",
          "exception": false,
          "start_time": "2023-07-02T01:08:51.512131",
          "status": "completed"
        },
        "tags": [],
        "id": "c179cec5"
      },
      "outputs": [],
      "source": [
        "from tensorflow.keras.models import Sequential, model_from_json\n",
        "json_file = open('/kaggle/working/CNN_model.json', 'r')\n",
        "loaded_model_json = json_file.read()\n",
        "json_file.close()\n",
        "loaded_model = model_from_json(loaded_model_json)\n",
        "\n",
        "loaded_model.load_weights(\"/kaggle/working/best_model1_weights.h5\")\n",
        "print(\"Loaded model from disk\")"
      ]
    },
    {
      "cell_type": "code",
      "execution_count": null,
      "id": "d1c2a567",
      "metadata": {
        "execution": {
          "iopub.execute_input": "2023-07-02T01:09:01.774091Z",
          "iopub.status.busy": "2023-07-02T01:09:01.773675Z",
          "iopub.status.idle": "2023-07-02T01:09:09.719917Z",
          "shell.execute_reply": "2023-07-02T01:09:09.718683Z"
        },
        "papermill": {
          "duration": 11.322573,
          "end_time": "2023-07-02T01:09:09.722450",
          "exception": false,
          "start_time": "2023-07-02T01:08:58.399877",
          "status": "completed"
        },
        "tags": [],
        "id": "d1c2a567"
      },
      "outputs": [],
      "source": [
        "loaded_model.compile(optimizer='adam', loss='categorical_crossentropy', metrics=['accuracy'])\n",
        "score = loaded_model.evaluate(x_testcnn,y_test)\n",
        "print(\"%s: %.2f%%\" % (loaded_model.metrics_names[1], score[1]*100))"
      ]
    },
    {
      "cell_type": "markdown",
      "id": "a265a5e6",
      "metadata": {
        "papermill": {
          "duration": 3.226626,
          "end_time": "2023-07-02T01:09:23.018548",
          "exception": false,
          "start_time": "2023-07-02T01:09:19.791922",
          "status": "completed"
        },
        "tags": [],
        "id": "a265a5e6"
      },
      "source": [
        "pickle file\n"
      ]
    },
    {
      "cell_type": "code",
      "execution_count": null,
      "id": "b1d9e6ed",
      "metadata": {
        "execution": {
          "iopub.execute_input": "2023-07-02T01:09:29.785078Z",
          "iopub.status.busy": "2023-07-02T01:09:29.784637Z",
          "iopub.status.idle": "2023-07-02T01:09:29.795995Z",
          "shell.execute_reply": "2023-07-02T01:09:29.794985Z"
        },
        "papermill": {
          "duration": 3.36157,
          "end_time": "2023-07-02T01:09:29.798489",
          "exception": false,
          "start_time": "2023-07-02T01:09:26.436919",
          "status": "completed"
        },
        "tags": [],
        "id": "b1d9e6ed"
      },
      "outputs": [],
      "source": [
        "import pickle\n",
        "\n",
        "with open('scaler2.pickle', 'wb') as f:\n",
        "    pickle.dump(scaler, f)\n",
        "\n",
        "with open('scaler2.pickle', 'rb') as f:\n",
        "    scaler2 = pickle.load(f)\n",
        "\n",
        "with open('encoder2.pickle', 'wb') as f:\n",
        "    pickle.dump(encoder, f)\n",
        "\n",
        "with open('encoder2.pickle', 'rb') as f:\n",
        "    encoder2 = pickle.load(f)\n",
        "\n",
        "print(\"Done\")"
      ]
    },
    {
      "cell_type": "markdown",
      "id": "404881d0",
      "metadata": {
        "papermill": {
          "duration": 3.304143,
          "end_time": "2023-07-02T01:09:36.420228",
          "exception": false,
          "start_time": "2023-07-02T01:09:33.116085",
          "status": "completed"
        },
        "tags": [],
        "id": "404881d0"
      },
      "source": [
        "**Test script**"
      ]
    },
    {
      "cell_type": "code",
      "execution_count": null,
      "id": "e81e0f15",
      "metadata": {
        "execution": {
          "iopub.execute_input": "2023-07-02T01:09:43.496151Z",
          "iopub.status.busy": "2023-07-02T01:09:43.495723Z",
          "iopub.status.idle": "2023-07-02T01:09:43.736759Z",
          "shell.execute_reply": "2023-07-02T01:09:43.735695Z"
        },
        "papermill": {
          "duration": 3.561734,
          "end_time": "2023-07-02T01:09:43.739090",
          "exception": false,
          "start_time": "2023-07-02T01:09:40.177356",
          "status": "completed"
        },
        "tags": [],
        "id": "e81e0f15"
      },
      "outputs": [],
      "source": [
        "from tensorflow.keras.models import Sequential, model_from_json\n",
        "json_file = open('/kaggle/working/CNN_model.json', 'r')\n",
        "loaded_model_json = json_file.read()\n",
        "json_file.close()\n",
        "loaded_model = model_from_json(loaded_model_json)\n",
        "\n",
        "loaded_model.load_weights(\"/kaggle/working/best_model1_weights.h5\")\n",
        "print(\"Loaded model from disk\")"
      ]
    },
    {
      "cell_type": "code",
      "execution_count": null,
      "id": "ff5c40b3",
      "metadata": {
        "execution": {
          "iopub.execute_input": "2023-07-02T01:09:50.448933Z",
          "iopub.status.busy": "2023-07-02T01:09:50.447867Z",
          "iopub.status.idle": "2023-07-02T01:09:50.459747Z",
          "shell.execute_reply": "2023-07-02T01:09:50.456054Z"
        },
        "papermill": {
          "duration": 3.423861,
          "end_time": "2023-07-02T01:09:50.462245",
          "exception": false,
          "start_time": "2023-07-02T01:09:47.038384",
          "status": "completed"
        },
        "tags": [],
        "id": "ff5c40b3"
      },
      "outputs": [],
      "source": [
        "import pickle\n",
        "\n",
        "with open('/kaggle/working/scaler2.pickle', 'rb') as f:\n",
        "    scaler2 = pickle.load(f)\n",
        "\n",
        "with open('/kaggle/working/encoder2.pickle', 'rb') as f:\n",
        "    encoder2 = pickle.load(f)\n",
        "\n",
        "print(\"Done\")"
      ]
    },
    {
      "cell_type": "code",
      "execution_count": null,
      "id": "30c5cbe3",
      "metadata": {
        "execution": {
          "iopub.execute_input": "2023-07-02T01:10:03.682060Z",
          "iopub.status.busy": "2023-07-02T01:10:03.681638Z",
          "iopub.status.idle": "2023-07-02T01:10:03.692718Z",
          "shell.execute_reply": "2023-07-02T01:10:03.691779Z"
        },
        "papermill": {
          "duration": 3.226462,
          "end_time": "2023-07-02T01:10:03.694994",
          "exception": false,
          "start_time": "2023-07-02T01:10:00.468532",
          "status": "completed"
        },
        "tags": [],
        "id": "30c5cbe3"
      },
      "outputs": [],
      "source": [
        "def zcr(data,frame_length,hop_length):\n",
        "    zcr=librosa.feature.zero_crossing_rate(data,frame_length=frame_length,hop_length=hop_length)\n",
        "    return np.squeeze(zcr)\n",
        "def rmse(data,frame_length=2048,hop_length=512):\n",
        "    rmse=librosa.feature.rms(data,frame_length=frame_length,hop_length=hop_length)\n",
        "    return np.squeeze(rmse)\n",
        "def mfcc(data,sr,frame_length=2048,hop_length=512,flatten:bool=True):\n",
        "    mfcc=librosa.feature.mfcc(data,sr=sr)\n",
        "    return np.squeeze(mfcc.T)if not flatten else np.ravel(mfcc.T)\n",
        "\n",
        "def extract_features(data,sr=22050,frame_length=2048,hop_length=512):\n",
        "    result=np.array([])\n",
        "\n",
        "    result=np.hstack((result,\n",
        "                      zcr(data,frame_length,hop_length),\n",
        "                      rmse(data,frame_length,hop_length),\n",
        "                      mfcc(data,sr,frame_length,hop_length)\n",
        "                     ))\n",
        "    return result"
      ]
    },
    {
      "cell_type": "code",
      "execution_count": null,
      "id": "f5213414",
      "metadata": {
        "execution": {
          "iopub.execute_input": "2023-07-02T01:10:10.912039Z",
          "iopub.status.busy": "2023-07-02T01:10:10.910972Z",
          "iopub.status.idle": "2023-07-02T01:10:10.917847Z",
          "shell.execute_reply": "2023-07-02T01:10:10.916821Z"
        },
        "papermill": {
          "duration": 3.811843,
          "end_time": "2023-07-02T01:10:10.920064",
          "exception": false,
          "start_time": "2023-07-02T01:10:07.108221",
          "status": "completed"
        },
        "tags": [],
        "id": "f5213414"
      },
      "outputs": [],
      "source": [
        "def get_predict_feat(path):\n",
        "    d, s_rate= librosa.load(path, duration=2.5, offset=0.6)\n",
        "    res=extract_features(d)\n",
        "    result=np.array(res)\n",
        "    result=np.reshape(result,newshape=(1,2376))\n",
        "    i_result = scaler2.transform(result)\n",
        "    final_result=np.expand_dims(i_result, axis=2)\n",
        "\n",
        "    return final_result"
      ]
    },
    {
      "cell_type": "code",
      "execution_count": null,
      "id": "e756b53d",
      "metadata": {
        "execution": {
          "iopub.execute_input": "2023-07-02T01:10:17.527551Z",
          "iopub.status.busy": "2023-07-02T01:10:17.526892Z",
          "iopub.status.idle": "2023-07-02T01:10:17.659078Z",
          "shell.execute_reply": "2023-07-02T01:10:17.657902Z"
        },
        "papermill": {
          "duration": 3.446326,
          "end_time": "2023-07-02T01:10:17.663670",
          "exception": false,
          "start_time": "2023-07-02T01:10:14.217344",
          "status": "completed"
        },
        "tags": [],
        "id": "e756b53d"
      },
      "outputs": [],
      "source": [
        "res=get_predict_feat(\"/kaggle/input/ravdess-emotional-speech-audio/Actor_01/03-01-07-01-01-01-01.wav\")\n",
        "print(res.shape)"
      ]
    },
    {
      "cell_type": "code",
      "execution_count": null,
      "id": "267176b1",
      "metadata": {
        "execution": {
          "iopub.execute_input": "2023-07-02T01:10:24.440288Z",
          "iopub.status.busy": "2023-07-02T01:10:24.439876Z",
          "iopub.status.idle": "2023-07-02T01:10:24.446389Z",
          "shell.execute_reply": "2023-07-02T01:10:24.445254Z"
        },
        "papermill": {
          "duration": 3.328888,
          "end_time": "2023-07-02T01:10:24.448710",
          "exception": false,
          "start_time": "2023-07-02T01:10:21.119822",
          "status": "completed"
        },
        "tags": [],
        "id": "267176b1"
      },
      "outputs": [],
      "source": [
        "emotions1={1:'Neutral', 2:'Calm', 3:'Happy', 4:'Sad', 5:'Angry', 6:'Fear', 7:'Disgust',8:'Surprise'}\n",
        "def prediction(path1):\n",
        "    res=get_predict_feat(path1)\n",
        "    predictions=loaded_model.predict(res)\n",
        "    y_pred = encoder2.inverse_transform(predictions)\n",
        "    print(y_pred[0][0])"
      ]
    }
  ],
  "metadata": {
    "kernelspec": {
      "display_name": "Python 3",
      "name": "python3"
    },
    "language_info": {
      "codemirror_mode": {
        "name": "ipython",
        "version": 3
      },
      "file_extension": ".py",
      "mimetype": "text/x-python",
      "name": "python",
      "nbconvert_exporter": "python",
      "pygments_lexer": "ipython3",
      "version": "3.7.12"
    },
    "papermill": {
      "default_parameters": {},
      "duration": 11598.328512,
      "end_time": "2023-07-02T01:11:20.401611",
      "environment_variables": {},
      "exception": null,
      "input_path": "__notebook__.ipynb",
      "output_path": "__notebook__.ipynb",
      "parameters": {},
      "start_time": "2023-07-01T21:58:02.073099",
      "version": "2.3.4"
    },
    "colab": {
      "provenance": [],
      "gpuType": "V28"
    },
    "accelerator": "TPU"
  },
  "nbformat": 4,
  "nbformat_minor": 5
}